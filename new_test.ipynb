{
 "cells": [
  {
   "cell_type": "code",
   "execution_count": 1,
   "metadata": {},
   "outputs": [],
   "source": [
    "import os\n",
    "from pdf2image import convert_from_path\n",
    "\n",
    "\n",
    "def convert_pdfs_to_images(pdf_folder):\n",
    "    pdf_files = [f for f in os.listdir(pdf_folder) if f.endswith(\".pdf\")]\n",
    "    all_images = {}\n",
    "\n",
    "    for doc_id, pdf_file in enumerate(pdf_files):\n",
    "        pdf_path = os.path.join(pdf_folder, pdf_file)\n",
    "        images = convert_from_path(pdf_path)\n",
    "        all_images[doc_id] = images\n",
    "\n",
    "    return all_images\n",
    "\n",
    "\n",
    "all_images = convert_pdfs_to_images(\"./data/\")"
   ]
  },
  {
   "cell_type": "code",
   "execution_count": null,
   "metadata": {},
   "outputs": [
    {
     "name": "stdout",
     "output_type": "stream",
     "text": [
      "Verbosity is set to 1 (active). Pass verbose=0 to make quieter.\n"
     ]
    },
    {
     "name": "stderr",
     "output_type": "stream",
     "text": [
      "Downloading shards:   0%|          | 0/2 [00:00<?, ?it/s]Error while downloading from https://cdn-lfs-us-1.hf.co/repos/18/c1/18c1adfe23a18b86d364b86480f865b76f85eaa5976dbaf285bc171436bd0a11/c128f5670d7a66942a194be6e2d324dc329c0de19e99c6f047513878e14f988e?response-content-disposition=inline%3B+filename*%3DUTF-8%27%27model-00001-of-00002.safetensors%3B+filename%3D%22model-00001-of-00002.safetensors%22%3B&Expires=1730938875&Policy=eyJTdGF0ZW1lbnQiOlt7IkNvbmRpdGlvbiI6eyJEYXRlTGVzc1RoYW4iOnsiQVdTOkVwb2NoVGltZSI6MTczMDkzODg3NX19LCJSZXNvdXJjZSI6Imh0dHBzOi8vY2RuLWxmcy11cy0xLmhmLmNvL3JlcG9zLzE4L2MxLzE4YzFhZGZlMjNhMThiODZkMzY0Yjg2NDgwZjg2NWI3NmY4NWVhYTU5NzZkYmFmMjg1YmMxNzE0MzZiZDBhMTEvYzEyOGY1NjcwZDdhNjY5NDJhMTk0YmU2ZTJkMzI0ZGMzMjljMGRlMTllOTljNmYwNDc1MTM4NzhlMTRmOTg4ZT9yZXNwb25zZS1jb250ZW50LWRpc3Bvc2l0aW9uPSoifV19&Signature=kP-C14FanFvSubfkTETTr6rR5uJL%7EvSBz35%7E-hNl1PHatia5AtPTgjEJgtkOruPkkmsMkrj3QRCeBEkFyRAhSD2VFh8VLKfK30ByMjILPGg6MQLXp1N21v5pn5HoDipoHTeBSBwb%7EYsHBX4yW4eSz29zp-PxSpQ4wrWzRNHDWwUmxSmRFiy5I7qMSkWwI1elVxcHe%7E9kEbDDeM9tqtRuDDQZ2UaSVuT5FMhQYe7Ik7zapDB2UI%7E9-9AByCIktrqzun0tAXsFjJVrP4Enw18I6bp3-a2tli8euazeD-nsPlaDKNR04sWQPlcvLkSWja42A7M5%7ES4FWPZiCyzsFg7qdA__&Key-Pair-Id=K24J24Z295AEI9: HTTPSConnectionPool(host='cdn-lfs-us-1.hf.co', port=443): Read timed out.\n",
      "Trying to resume download...\n"
     ]
    }
   ],
   "source": [
    "from byaldi import RAGMultiModalModel\n",
    "\n",
    "docs_retrieval_model = RAGMultiModalModel.from_pretrained(\"vidore/colpali-v1.2\")\n"
   ]
  },
  {
   "cell_type": "code",
   "execution_count": null,
   "metadata": {},
   "outputs": [],
   "source": []
  }
 ],
 "metadata": {
  "kernelspec": {
   "display_name": "Python 3",
   "language": "python",
   "name": "python3"
  },
  "language_info": {
   "codemirror_mode": {
    "name": "ipython",
    "version": 3
   },
   "file_extension": ".py",
   "mimetype": "text/x-python",
   "name": "python",
   "nbconvert_exporter": "python",
   "pygments_lexer": "ipython3",
   "version": "3.10.12"
  }
 },
 "nbformat": 4,
 "nbformat_minor": 2
}
